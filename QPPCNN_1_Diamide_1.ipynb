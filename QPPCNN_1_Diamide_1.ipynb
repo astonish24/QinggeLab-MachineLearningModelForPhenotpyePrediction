{
 "cells": [
  {
   "cell_type": "markdown",
   "metadata": {
    "id": "InLk58CinMcl"
   },
   "source": [
    "# **Genotype_Phenotype_CNN Project**"
   ]
  },
  {
   "cell_type": "markdown",
   "metadata": {
    "id": "fPc0-d3yoCsR"
   },
   "source": [
    "## **Importing important Libraries**"
   ]
  },
  {
   "cell_type": "code",
   "execution_count": 1,
   "metadata": {
    "colab": {
     "base_uri": "https://localhost:8080/"
    },
    "id": "ciKlXr37oMSf",
    "outputId": "3c6c86ba-ae5a-4af1-abe5-9118cbba78ca"
   },
   "outputs": [
    {
     "name": "stderr",
     "output_type": "stream",
     "text": [
      "2023-04-27 15:29:59.577798: I tensorflow/core/platform/cpu_feature_guard.cc:193] This TensorFlow binary is optimized with oneAPI Deep Neural Network Library (oneDNN) to use the following CPU instructions in performance-critical operations:  AVX2 AVX512F AVX512_VNNI FMA\n",
      "To enable them in other operations, rebuild TensorFlow with the appropriate compiler flags.\n",
      "2023-04-27 15:29:59.681212: I tensorflow/core/util/port.cc:104] oneDNN custom operations are on. You may see slightly different numerical results due to floating-point round-off errors from different computation orders. To turn them off, set the environment variable `TF_ENABLE_ONEDNN_OPTS=0`.\n",
      "2023-04-27 15:30:00.248448: W tensorflow/compiler/xla/stream_executor/platform/default/dso_loader.cc:64] Could not load dynamic library 'libnvinfer.so.7'; dlerror: libnvinfer.so.7: cannot open shared object file: No such file or directory; LD_LIBRARY_PATH: :/home/rkannan/miniconda3/envs/richard_tf/lib/\n",
      "2023-04-27 15:30:00.248518: W tensorflow/compiler/xla/stream_executor/platform/default/dso_loader.cc:64] Could not load dynamic library 'libnvinfer_plugin.so.7'; dlerror: libnvinfer_plugin.so.7: cannot open shared object file: No such file or directory; LD_LIBRARY_PATH: :/home/rkannan/miniconda3/envs/richard_tf/lib/\n",
      "2023-04-27 15:30:00.248523: W tensorflow/compiler/tf2tensorrt/utils/py_utils.cc:38] TF-TRT Warning: Cannot dlopen some TensorRT libraries. If you would like to use Nvidia GPU with TensorRT, please make sure the missing libraries mentioned above are installed properly.\n"
     ]
    }
   ],
   "source": [
    "%matplotlib inline\n",
    "%load_ext tensorboard\n",
    "#!pip install keras-tuner\n",
    "import pandas as pd\n",
    "import numpy as np\n",
    "import tensorflow as tf\n",
    "for gpu in tf.config.list_physical_devices(\"GPU\"):\n",
    "    tf.config.experimental.set_memory_growth(gpu, True)\n",
    "from matplotlib import pyplot as plt\n",
    "import keras_tuner as kt\n",
    "from sklearn.metrics import confusion_matrix, accuracy_score"
   ]
  },
  {
   "cell_type": "markdown",
   "metadata": {
    "id": "wZFSBSwIp_wn"
   },
   "source": [
    "## **Loading Datasets**"
   ]
  },
  {
   "cell_type": "code",
   "execution_count": 2,
   "metadata": {},
   "outputs": [
    {
     "name": "stdout",
     "output_type": "stream",
     "text": [
      "genotypeFile shape: (4390, 28220)\n",
      "Phenotype_Multi shape: (4390, 20)\n"
     ]
    }
   ],
   "source": [
    "genotypeFile = 'genotype.csv'\n",
    "genotype = pd.read_csv(genotypeFile, sep = '\\t', index_col = 0)\n",
    "print('genotypeFile shape:', genotype.shape )\n",
    "\n",
    "phenotypeFile = 'phenotype.csv'\n",
    "multi_pheno = pd.read_csv(phenotypeFile, sep = ',', index_col = 0)\n",
    "print('Phenotype_Multi shape:', multi_pheno.shape )\n",
    "\n",
    "\n",
    "# take a small part to test code\n",
    "# genotype\n",
    "X = genotype\n",
    "# X = genotype.iloc[0:1000:, 0:5000]\n",
    "# single_pheno\n",
    "Y = multi_pheno.iloc[:, 2]#index=1 --> 2_1_Diamide_1\n",
    "# Y = multi_pheno.iloc[0:1000, pheno_i]\n",
    "\n",
    "\n",
    "# # Add noise\n",
    "# random missing masker\n",
    "missing_perc = 0.1\n",
    "nonmissing_ones = np.random.binomial(\n",
    "    1, 1 - missing_perc, size=X.shape[0] * X.shape[1])\n",
    "nonmissing_ones = nonmissing_ones.reshape(X.shape[0], X.shape[1])\n",
    "nonmissing_ones, nonmissing_ones.shape\n",
    "\n",
    "corrupted_X = X * nonmissing_ones\n",
    "# corrupted_X.head()\n",
    "\n",
    "# # Prepare data\n",
    "# ## One-hot encoding\n",
    "\n",
    "from keras.utils import to_categorical\n",
    "from sklearn.model_selection import train_test_split\n",
    "#X_onehot = to_categorical(X)\n",
    "corrupted_X_onehot = to_categorical(corrupted_X)\n",
    "# corrupted_X_onehot.shape\n",
    "\n",
    "# normlization\n",
    "scaled_Y = (Y - Y.min()) / (Y.max() - Y.min())\n",
    "\n",
    "\n",
    "def detect_outliers(df):\n",
    "    outlier_indices = []\n",
    "\n",
    "    Q1 = np.percentile(df, 25)\n",
    "    Q3 = np.percentile(df, 75)\n",
    "    IQR = Q3 - Q1\n",
    "    outlier_step = 1.5 * IQR\n",
    "\n",
    "    outlier_indices = df[(df < Q1 - outlier_step) |\n",
    "                         (df > Q3 + outlier_step)].index\n",
    "\n",
    "    return outlier_indices\n",
    "\n",
    "\n",
    "temp_Y = scaled_Y[~scaled_Y.isna()]\n",
    "outliers_index = detect_outliers(temp_Y)\n",
    "\n",
    "\n",
    "# set outliers as NAN\n",
    "scaled_Y_ = scaled_Y.copy()\n",
    "scaled_Y_[outliers_index] = np.nan\n",
    "\n",
    "\n",
    "# ## Split train and test\n",
    "train_X, test_X, corrupted_train_X, corrupted_test_X, train_Y, test_Y = train_test_split(\n",
    "    X, corrupted_X_onehot, scaled_Y_.iloc[:], test_size=0.1)\n",
    "\n",
    "# split df to train and valid\n",
    "train_X, valid_X, corrupted_train_X, corrupted_valid_X, train_Y, valid_Y = train_test_split(\n",
    "    train_X, corrupted_train_X, train_Y, test_size=0.1)\n",
    "\n",
    "\n",
    "\n",
    "x_train = to_categorical(pd.concat([train_X,train_Y],axis=1).dropna().iloc[:,0:-1])\n",
    "y_train = train_Y.dropna().to_numpy()\n",
    "\n",
    "x_valid = to_categorical(pd.concat([valid_X,valid_Y],axis=1).dropna().iloc[:,0:-1])\n",
    "y_valid = valid_Y.dropna().to_numpy()\n",
    "\n",
    "x_test = to_categorical(pd.concat([test_X,test_Y],axis=1).dropna().iloc[:,0:-1])\n",
    "y_test  = test_Y.dropna().to_numpy()"
   ]
  },
  {
   "cell_type": "markdown",
   "metadata": {
    "id": "fuNzH_M9W2nb"
   },
   "source": [
    "## **PART 2 - BUILDING THE Model**"
   ]
  },
  {
   "cell_type": "markdown",
   "metadata": {
    "id": "Wuh1gwdRXGse"
   },
   "source": [
    "### Initializing the CNN and Building the layers"
   ]
  },
  {
   "cell_type": "code",
   "execution_count": 3,
   "metadata": {},
   "outputs": [],
   "source": [
    "def model_build(pheno_name,num_hl,hl_list,hl_activation, out_activation, dropout_val,filters_, kernel_size_,stride_poolSize,Conv_Layers_Stride_Size):\n",
    "    \n",
    "\n",
    "    '''\n",
    "    https://towardsdatascience.com/multi-output-model-with-tensorflow-keras-functional-api-875dd89aa7c6\n",
    "\n",
    "    def DNN_build(num_hl,hl_list,hl_activation, out_activation, dropout_val):\n",
    "    pheno_name = name of phenotype of interest\n",
    "    num_hl = number of hidden layers\n",
    "    hl_list = list of hidden layers\n",
    "    hl_activation = hidden layer activation function\n",
    "    out_activation = output layer activation function\n",
    "    dropout_val = Dropout value\n",
    "    '''\n",
    "    assert(num_hl == len(hl_list))\n",
    "    assert(num_hl == len(dropout_val))\n",
    "    input_layer = tf.keras.Input(shape=(28220, 3))#(3138, 28220, 3)\n",
    "    \n",
    "    shared_convL1 = tf.keras.layers.Conv1D(filters = filters_,kernel_size = kernel_size_,strides = Conv_Layers_Stride_Size, activation = hl_activation,input_shape = (28220, 3))(input_layer)\n",
    "    shared_convL1_max_pool = tf.keras.layers.MaxPool1D(pool_size=stride_poolSize, strides=stride_poolSize)(shared_convL1)\n",
    "    \n",
    "    shared_convL2 = tf.keras.layers.Conv1D(filters = filters_,kernel_size = kernel_size_,strides = Conv_Layers_Stride_Size, activation = hl_activation)(shared_convL1_max_pool)\n",
    "    shared_convL2_max_pool = tf.keras.layers.MaxPool1D(pool_size=stride_poolSize, strides=stride_poolSize)(shared_convL2)\n",
    "    \n",
    "    shared_convLayer_Flatten = tf.keras.layers.Flatten()(shared_convL2_max_pool)\n",
    "    initializer = tf.keras.initializers.HeNormal()\n",
    "    kernel_regularizer_ = tf.keras.regularizers.L1L2(l1=0.0001, l2=0.0001)\n",
    "    \n",
    "    shared_hidden_layer1 = tf.keras.layers.Dense(kernel_regularizer=kernel_regularizer_,kernel_initializer=initializer,units = hl_list[0], activation  = hl_activation)(shared_convLayer_Flatten)\n",
    "    shared_hidden_layer1_dp1 = tf.keras.layers.Dropout(dropout_val[0])(shared_hidden_layer1)\n",
    "\n",
    "    #model 1\n",
    "    model1_hidden_layer2 = tf.keras.layers.Dense(kernel_regularizer=kernel_regularizer_,kernel_initializer=initializer,units = hl_list[1], activation  = hl_activation)(shared_hidden_layer1_dp1)\n",
    "    model1_hidden_layer2_dp2 = tf.keras.layers.Dropout(dropout_val[1])(model1_hidden_layer2)\n",
    "\n",
    "    model1_hidden_layer3 = tf.keras.layers.Dense(kernel_regularizer=kernel_regularizer_,kernel_initializer=initializer,units = hl_list[2], activation  = hl_activation)(model1_hidden_layer2_dp2)\n",
    "    model1_hidden_layer3_dp3 = tf.keras.layers.Dropout(dropout_val[2])(model1_hidden_layer3)\n",
    "\n",
    "    model1_hidden_layer4 = tf.keras.layers.Dense(kernel_regularizer=kernel_regularizer_,kernel_initializer=initializer,units = hl_list[3], activation  = hl_activation)(model1_hidden_layer3_dp3)\n",
    "    model1_hidden_layer4_dp4 = tf.keras.layers.Dropout(dropout_val[3])(model1_hidden_layer4)\n",
    "    model1_hidden_layer4_dp4_fl = tf.keras.layers.Flatten()(model1_hidden_layer4_dp4)\n",
    "    \n",
    "    pheno_name_ = tf.keras.layers.Dense(units = 1, name = pheno_name, activation  = out_activation)(model1_hidden_layer4_dp4_fl)#1_CobaltChloride_1\n",
    "    model = tf.keras.models.Model(inputs = input_layer, outputs = [pheno_name_])\n",
    "\n",
    "    return model"
   ]
  },
  {
   "cell_type": "markdown",
   "metadata": {
    "id": "nwATS_sVYJ5A"
   },
   "source": [
    "## **PART 3 - TRAINING THE MODEL**"
   ]
  },
  {
   "cell_type": "markdown",
   "metadata": {
    "id": "IZiwCHMzYcKi"
   },
   "source": [
    "### **Compiling the CNN and Training the CNN on the Training set**"
   ]
  },
  {
   "cell_type": "code",
   "execution_count": 4,
   "metadata": {},
   "outputs": [],
   "source": [
    "#ann.compile(optimizer = 'adam', loss = 'binary_crossentropy', metrics = ['accuracy','mse'])#change metrics to MSE\n",
    "def compile_model(pheno_name,model,loss_, learningRate, metrics_): #loss = 'sparse_categorical_crossentropy'\n",
    "    '''\n",
    "    def compile_model(DNN, loss_, learningRate, metrics_):\n",
    "    DNN: the model\n",
    "    loss_: the loss function\n",
    "    learningRate: learning rate\n",
    "    metrics_: metrics of interest ['accuracy', 'mse']\n",
    "    '''\n",
    "\n",
    "    # Specify the optimizer, and compile the model with loss functions for both outputs\n",
    "    model.compile(\n",
    "       #optimizer = tf.keras.optimizers.Adam(learning_rate=learningRate),#0.00027705 \n",
    "    optimizer =  tf.keras.optimizers.SGD(learning_rate=learningRate, momentum=0.8, nesterov=True, name=\"SGD\"),\n",
    "      loss = {\n",
    "          pheno_name:loss_\n",
    "      }, \n",
    "      metrics = [metrics_]#{'CobaltChloride_1':[metrics_],'CopperSulfate_1':[metrics_],'Diamide_1':[metrics_]}\n",
    "      )#change metrics to MSE ##['accuracy','mse']\n",
    "    return model\n",
    "\n",
    "def runModel(model, val_split_size, batch_size_,numEpochs, patience_, monitor_, mode,pheno_index):\n",
    "    '''\n",
    "    def buildModel(DNN, val_split_size, batch_size_,numEpochs, patience_, monitor_, mode):\n",
    "    DNN: DNN which the model\n",
    "    val_split_size: the validation split)\n",
    "    batch_size_: batch_size\n",
    "    numEpochs: number of epochs\n",
    "    patience_: patience of call back\n",
    "    monitor_: monitor (objective of callback)\n",
    "    mode: mode (min, max, auto)\n",
    "    pheno_index: the index of the phenotype in y_train\n",
    "    '''\n",
    "    history = model.fit(\n",
    "    x_train, \n",
    "    [y_train[:]],\n",
    "    validation_data=(x_valid, [y_valid[:]]),\n",
    "    batch_size = batch_size_, \n",
    "    epochs = numEpochs,\n",
    "    callbacks = [\n",
    "      tf.keras.callbacks.EarlyStopping(monitor= monitor_,patience=patience_,verbose=1,mode=mode),#monitoring loss mode should be min [---val_acc--]\n",
    "      #tf.keras.callbacks.ModelCheckpoint(filepath='./TrainedModels/model.{epoch:02d}-{val_loss:.2f}.h5',save_best_only=True),\n",
    "      #tf.keras.callbacks.TensorBoard(log_dir='./logs'),\n",
    "    ]\n",
    "    )\n",
    "\n",
    "    return history\n",
    "\n"
   ]
  },
  {
   "cell_type": "markdown",
   "metadata": {},
   "source": [
    "## Model Evaluation"
   ]
  },
  {
   "cell_type": "code",
   "execution_count": 5,
   "metadata": {},
   "outputs": [],
   "source": [
    "def evaluateModel_loss(history,model_name,label_loss,val_label_loss):\n",
    "    print()\n",
    "    plt.plot(history.history[label_loss])\n",
    "    plt.plot(history.history[val_label_loss])\n",
    "    plt.title(model_name + ' Training and Validation loss')\n",
    "    plt.ylabel('Mean Squared Error')\n",
    "    plt.xlabel('epochs')\n",
    "    plt.legend(['Training loss','Validation loss'], loc = 'upper left')\n",
    "    #plt.savefig(\"Training_validation_loss_with_i.jpg\")\n",
    "    plt.show()\n",
    "    plt.close()\n",
    "    #plt.show()\n",
    "    print()\n",
    "def evaluateModel_metric(history,model_name,label_acc,val_label_acc):\n",
    "    print()\n",
    "    plt.plot(history.history[label_acc])\n",
    "    plt.plot(history.history[val_label_acc])\n",
    "    plt.title(model_name+' Training and Validation Mean Qquared Error')\n",
    "    plt.ylabel('Mean Squared Error')\n",
    "    plt.xlabel('epochs')\n",
    "    plt.legend(['Training Accuracy','Validation Accuracy'], loc = 'upper left')\n",
    "    #plt.show()\n",
    "    #plt.savefig(\"Training_validation_accuracy_with_i.jpg\")\n",
    "    plt.show()\n",
    "    plt.close()\n",
    "    print()"
   ]
  },
  {
   "cell_type": "markdown",
   "metadata": {
    "id": "n1mgkQv0lJ7v"
   },
   "source": [
    "## **Putting it All Together**"
   ]
  },
  {
   "cell_type": "code",
   "execution_count": 6,
   "metadata": {},
   "outputs": [],
   "source": [
    "def runModel_all(pheno_name, pheno_index,hl_list, drop_list):\n",
    "    model_mse = model_build(pheno_name,4,hl_list,'relu','linear',drop_list,8,7,2,3)#model initiallization\n",
    "    model_mse = compile_model(pheno_name,model_mse,tf.keras.losses.MeanSquaredError(reduction=\"auto\", name=\"mse\"),\n",
    "    0.00123695244,'mse')\n",
    "    history_mse =  runModel(model_mse,0.30,32,400,15, \"val_mse\", \"min\",pheno_index)\n",
    "    return history_mse,model_mse"
   ]
  },
  {
   "cell_type": "markdown",
   "metadata": {},
   "source": [
    "### Run for '1_Diamide_1' at index 1 in y_train"
   ]
  },
  {
   "cell_type": "code",
   "execution_count": 17,
   "metadata": {},
   "outputs": [
    {
     "name": "stdout",
     "output_type": "stream",
     "text": [
      "Epoch 1/400\n",
      "109/109 [==============================] - 2s 14ms/step - loss: 17.7479 - mse: 0.0819 - val_loss: 17.6719 - val_mse: 0.0433\n",
      "Epoch 2/400\n",
      "109/109 [==============================] - 1s 12ms/step - loss: 17.6310 - mse: 0.0387 - val_loss: 17.5960 - val_mse: 0.0412\n",
      "Epoch 3/400\n",
      "109/109 [==============================] - 1s 12ms/step - loss: 17.5512 - mse: 0.0325 - val_loss: 17.5114 - val_mse: 0.0300\n",
      "Epoch 4/400\n",
      "109/109 [==============================] - 1s 12ms/step - loss: 17.4750 - mse: 0.0296 - val_loss: 17.4334 - val_mse: 0.0253\n",
      "Epoch 5/400\n",
      "109/109 [==============================] - 1s 12ms/step - loss: 17.3985 - mse: 0.0263 - val_loss: 17.3621 - val_mse: 0.0271\n",
      "Epoch 6/400\n",
      "109/109 [==============================] - 1s 12ms/step - loss: 17.3237 - mse: 0.0244 - val_loss: 17.2875 - val_mse: 0.0253\n",
      "Epoch 7/400\n",
      "109/109 [==============================] - 1s 12ms/step - loss: 17.2496 - mse: 0.0231 - val_loss: 17.2131 - val_mse: 0.0235\n",
      "Epoch 8/400\n",
      "109/109 [==============================] - 1s 12ms/step - loss: 17.1760 - mse: 0.0221 - val_loss: 17.1390 - val_mse: 0.0219\n",
      "Epoch 9/400\n",
      "109/109 [==============================] - 1s 12ms/step - loss: 17.1035 - mse: 0.0219 - val_loss: 17.0663 - val_mse: 0.0215\n",
      "Epoch 10/400\n",
      "109/109 [==============================] - 1s 12ms/step - loss: 17.0300 - mse: 0.0206 - val_loss: 16.9932 - val_mse: 0.0205\n",
      "Epoch 11/400\n",
      "109/109 [==============================] - 1s 12ms/step - loss: 16.9579 - mse: 0.0205 - val_loss: 16.9215 - val_mse: 0.0206\n",
      "Epoch 12/400\n",
      "109/109 [==============================] - 1s 12ms/step - loss: 16.8863 - mse: 0.0206 - val_loss: 16.8499 - val_mse: 0.0206\n",
      "Epoch 13/400\n",
      "109/109 [==============================] - 1s 12ms/step - loss: 16.8142 - mse: 0.0200 - val_loss: 16.7779 - val_mse: 0.0201\n",
      "Epoch 14/400\n",
      "109/109 [==============================] - 1s 12ms/step - loss: 16.7433 - mse: 0.0205 - val_loss: 16.7071 - val_mse: 0.0206\n",
      "Epoch 15/400\n",
      "109/109 [==============================] - 1s 12ms/step - loss: 16.6717 - mse: 0.0201 - val_loss: 16.6361 - val_mse: 0.0206\n",
      "Epoch 16/400\n",
      "109/109 [==============================] - 1s 12ms/step - loss: 16.6006 - mse: 0.0198 - val_loss: 16.5648 - val_mse: 0.0201\n",
      "Epoch 17/400\n",
      "109/109 [==============================] - 1s 12ms/step - loss: 16.5298 - mse: 0.0198 - val_loss: 16.4942 - val_mse: 0.0202\n",
      "Epoch 18/400\n",
      "109/109 [==============================] - 1s 12ms/step - loss: 16.4594 - mse: 0.0199 - val_loss: 16.4235 - val_mse: 0.0199\n",
      "Epoch 19/400\n",
      "109/109 [==============================] - 1s 12ms/step - loss: 16.3888 - mse: 0.0197 - val_loss: 16.3534 - val_mse: 0.0200\n",
      "Epoch 20/400\n",
      "109/109 [==============================] - 1s 12ms/step - loss: 16.3186 - mse: 0.0196 - val_loss: 16.2834 - val_mse: 0.0200\n",
      "Epoch 21/400\n",
      "109/109 [==============================] - 1s 12ms/step - loss: 16.2488 - mse: 0.0197 - val_loss: 16.2134 - val_mse: 0.0199\n",
      "Epoch 22/400\n",
      "109/109 [==============================] - 1s 12ms/step - loss: 16.1788 - mse: 0.0195 - val_loss: 16.1438 - val_mse: 0.0199\n",
      "Epoch 23/400\n",
      "109/109 [==============================] - 1s 12ms/step - loss: 16.1094 - mse: 0.0196 - val_loss: 16.0743 - val_mse: 0.0198\n",
      "Epoch 24/400\n",
      "109/109 [==============================] - 1s 12ms/step - loss: 16.0397 - mse: 0.0193 - val_loss: 16.0050 - val_mse: 0.0198\n",
      "Epoch 25/400\n",
      "109/109 [==============================] - 1s 12ms/step - loss: 15.9707 - mse: 0.0194 - val_loss: 15.9362 - val_mse: 0.0200\n",
      "Epoch 26/400\n",
      "109/109 [==============================] - 1s 12ms/step - loss: 15.9019 - mse: 0.0195 - val_loss: 15.8671 - val_mse: 0.0198\n",
      "Epoch 27/400\n",
      "109/109 [==============================] - 1s 12ms/step - loss: 15.8333 - mse: 0.0197 - val_loss: 15.7984 - val_mse: 0.0197\n",
      "Epoch 28/400\n",
      "109/109 [==============================] - 1s 12ms/step - loss: 15.7642 - mse: 0.0191 - val_loss: 15.7302 - val_mse: 0.0199\n",
      "Epoch 29/400\n",
      "109/109 [==============================] - 1s 12ms/step - loss: 15.6961 - mse: 0.0194 - val_loss: 15.6618 - val_mse: 0.0197\n",
      "Epoch 30/400\n",
      "109/109 [==============================] - 1s 12ms/step - loss: 15.6282 - mse: 0.0195 - val_loss: 15.5939 - val_mse: 0.0199\n",
      "Epoch 31/400\n",
      "109/109 [==============================] - 1s 12ms/step - loss: 15.5600 - mse: 0.0193 - val_loss: 15.5259 - val_mse: 0.0198\n",
      "Epoch 32/400\n",
      "109/109 [==============================] - 1s 12ms/step - loss: 15.4921 - mse: 0.0192 - val_loss: 15.4584 - val_mse: 0.0198\n",
      "Epoch 33/400\n",
      "109/109 [==============================] - 1s 12ms/step - loss: 15.4245 - mse: 0.0191 - val_loss: 15.3908 - val_mse: 0.0197\n",
      "Epoch 34/400\n",
      "109/109 [==============================] - 1s 12ms/step - loss: 15.3572 - mse: 0.0192 - val_loss: 15.3236 - val_mse: 0.0197\n",
      "Epoch 35/400\n",
      "109/109 [==============================] - 1s 12ms/step - loss: 15.2903 - mse: 0.0194 - val_loss: 15.2565 - val_mse: 0.0197\n",
      "Epoch 36/400\n",
      "109/109 [==============================] - 1s 12ms/step - loss: 15.2231 - mse: 0.0192 - val_loss: 15.1897 - val_mse: 0.0197\n",
      "Epoch 37/400\n",
      "109/109 [==============================] - 1s 12ms/step - loss: 15.1564 - mse: 0.0192 - val_loss: 15.1230 - val_mse: 0.0197\n",
      "Epoch 38/400\n",
      "109/109 [==============================] - 1s 12ms/step - loss: 15.0899 - mse: 0.0193 - val_loss: 15.0566 - val_mse: 0.0198\n",
      "Epoch 39/400\n",
      "109/109 [==============================] - 1s 12ms/step - loss: 15.0233 - mse: 0.0190 - val_loss: 14.9905 - val_mse: 0.0199\n",
      "Epoch 40/400\n",
      "109/109 [==============================] - 1s 12ms/step - loss: 14.9572 - mse: 0.0191 - val_loss: 14.9243 - val_mse: 0.0197\n",
      "Epoch 41/400\n",
      "109/109 [==============================] - 1s 12ms/step - loss: 14.8914 - mse: 0.0192 - val_loss: 14.8583 - val_mse: 0.0196\n",
      "Epoch 42/400\n",
      "109/109 [==============================] - 1s 12ms/step - loss: 14.8257 - mse: 0.0192 - val_loss: 14.7929 - val_mse: 0.0199\n",
      "Epoch 43/400\n",
      "109/109 [==============================] - 1s 12ms/step - loss: 14.7599 - mse: 0.0191 - val_loss: 14.7272 - val_mse: 0.0197\n",
      "Epoch 44/400\n",
      "109/109 [==============================] - 1s 12ms/step - loss: 14.6947 - mse: 0.0192 - val_loss: 14.6619 - val_mse: 0.0196\n",
      "Epoch 45/400\n",
      "109/109 [==============================] - 1s 12ms/step - loss: 14.6295 - mse: 0.0192 - val_loss: 14.5968 - val_mse: 0.0196\n",
      "Epoch 46/400\n",
      "109/109 [==============================] - 1s 12ms/step - loss: 14.5645 - mse: 0.0192 - val_loss: 14.5321 - val_mse: 0.0198\n",
      "Epoch 47/400\n",
      "109/109 [==============================] - 1s 12ms/step - loss: 14.4996 - mse: 0.0190 - val_loss: 14.4674 - val_mse: 0.0198\n",
      "Epoch 48/400\n",
      "109/109 [==============================] - 1s 12ms/step - loss: 14.4352 - mse: 0.0192 - val_loss: 14.4029 - val_mse: 0.0197\n",
      "Epoch 49/400\n",
      "109/109 [==============================] - 1s 12ms/step - loss: 14.3708 - mse: 0.0191 - val_loss: 14.3386 - val_mse: 0.0196\n",
      "Epoch 50/400\n",
      "109/109 [==============================] - 1s 12ms/step - loss: 14.3064 - mse: 0.0190 - val_loss: 14.2746 - val_mse: 0.0197\n",
      "Epoch 51/400\n",
      "109/109 [==============================] - 1s 12ms/step - loss: 14.2424 - mse: 0.0190 - val_loss: 14.2106 - val_mse: 0.0196\n",
      "Epoch 52/400\n",
      "109/109 [==============================] - 1s 12ms/step - loss: 14.1788 - mse: 0.0191 - val_loss: 14.1471 - val_mse: 0.0198\n",
      "Epoch 53/400\n",
      "109/109 [==============================] - 1s 12ms/step - loss: 14.1150 - mse: 0.0190 - val_loss: 14.0835 - val_mse: 0.0197\n",
      "Epoch 54/400\n",
      "109/109 [==============================] - 1s 12ms/step - loss: 14.0517 - mse: 0.0190 - val_loss: 14.0201 - val_mse: 0.0196\n",
      "Epoch 55/400\n",
      "109/109 [==============================] - 1s 12ms/step - loss: 13.9886 - mse: 0.0191 - val_loss: 13.9570 - val_mse: 0.0197\n",
      "Epoch 56/400\n",
      "109/109 [==============================] - 1s 12ms/step - loss: 13.9254 - mse: 0.0190 - val_loss: 13.8941 - val_mse: 0.0196\n",
      "Epoch 57/400\n",
      "109/109 [==============================] - 1s 13ms/step - loss: 13.8624 - mse: 0.0188 - val_loss: 13.8315 - val_mse: 0.0197\n",
      "Epoch 58/400\n",
      "109/109 [==============================] - 1s 12ms/step - loss: 13.7998 - mse: 0.0188 - val_loss: 13.7689 - val_mse: 0.0197\n",
      "Epoch 59/400\n",
      "109/109 [==============================] - 1s 12ms/step - loss: 13.7375 - mse: 0.0189 - val_loss: 13.7066 - val_mse: 0.0197\n",
      "Epoch 60/400\n",
      "109/109 [==============================] - 1s 12ms/step - loss: 13.6754 - mse: 0.0190 - val_loss: 13.6444 - val_mse: 0.0196\n"
     ]
    },
    {
     "name": "stdout",
     "output_type": "stream",
     "text": [
      "Epoch 60: early stopping\n"
     ]
    }
   ],
   "source": [
    "history_mse,model_mse = runModel_all('1_Diamide_1',2,[1464,608,264,146],[0.50,0.50,0.00,0.50])"
   ]
  },
  {
   "cell_type": "code",
   "execution_count": 18,
   "metadata": {},
   "outputs": [
    {
     "name": "stdout",
     "output_type": "stream",
     "text": [
      "\n"
     ]
    },
    {
     "data": {
      "image/png": "[encoded data removed]",
      "text/plain": [
       "<Figure size 640x480 with 1 Axes>"
      ]
     },
     "metadata": {},
     "output_type": "display_data"
    },
    {
     "name": "stdout",
     "output_type": "stream",
     "text": [
      "\n",
      "\n"
     ]
    },
    {
     "data": {
      "image/png": "[encoded data removed]",
      "text/plain": [
       "<Figure size 640x480 with 1 Axes>"
      ]
     },
     "metadata": {},
     "output_type": "display_data"
    },
    {
     "name": "stdout",
     "output_type": "stream",
     "text": [
      "\n"
     ]
    }
   ],
   "source": [
    "pheno_name='1_Diamide_1'\n",
    "evaluateModel_loss(history_mse,'Model based on Mean Squared Error','loss','val_loss')\n",
    "evaluateModel_metric(history_mse,pheno_name,'mse','val_mse')"
   ]
  },
  {
   "cell_type": "code",
   "execution_count": 19,
   "metadata": {},
   "outputs": [],
   "source": [
    "model_mse.save('saved Models/1_Diamide_1.h5')"
   ]
  },
  {
   "cell_type": "code",
   "execution_count": 20,
   "metadata": {},
   "outputs": [
    {
     "name": "stdout",
     "output_type": "stream",
     "text": [
      "[0.043332722038030624, 0.04118095338344574, 0.030014753341674805, 0.025289613753557205, 0.027125325053930283, 0.025330400094389915, 0.023548267781734467, 0.021913636475801468, 0.021496038883924484, 0.020453304052352905, 0.02057436667382717, 0.02060931734740734, 0.020065005868673325, 0.020550647750496864, 0.020589612424373627, 0.020065441727638245, 0.02015232853591442, 0.019875751808285713, 0.020011497661471367, 0.019992031157016754, 0.019917726516723633, 0.019926652312278748, 0.01982070691883564, 0.019782409071922302, 0.01996755227446556, 0.019791333004832268, 0.019725721329450607, 0.01991409622132778, 0.01973930187523365, 0.019870031625032425, 0.019761381670832634, 0.01983131654560566, 0.01966831460595131, 0.0197021272033453, 0.019701682031154633, 0.01972123049199581, 0.019717853516340256, 0.019756609573960304, 0.019871313124895096, 0.01972355507314205, 0.019613010808825493, 0.019857781007885933, 0.01967000961303711, 0.019595466554164886, 0.01958225853741169, 0.019763292744755745, 0.019761811941862106, 0.019713595509529114, 0.01963605172932148, 0.019715020433068275, 0.019630959257483482, 0.019805515184998512, 0.01970255933701992, 0.019645795226097107, 0.01965292915701866, 0.019636504352092743, 0.01973859779536724, 0.019665641710162163, 0.019712721928954124, 0.01961016282439232]\n"
     ]
    }
   ],
   "source": [
    "print(history_mse.history['val_mse'])"
   ]
  },
  {
   "cell_type": "code",
   "execution_count": 21,
   "metadata": {},
   "outputs": [
    {
     "name": "stdout",
     "output_type": "stream",
     "text": [
      "[0.08188556879758835, 0.03870661184191704, 0.03246811777353287, 0.029642513021826744, 0.026305265724658966, 0.024444580078125, 0.023128798231482506, 0.02208712510764599, 0.021941155195236206, 0.02060665935277939, 0.020474309101700783, 0.0206232238560915, 0.02004808373749256, 0.020450321957468987, 0.020058464258909225, 0.01982833817601204, 0.019785620272159576, 0.019920971244573593, 0.019716471433639526, 0.019571805372834206, 0.01971142552793026, 0.019513441249728203, 0.019610721617937088, 0.019293025135993958, 0.0193660706281662, 0.019500358030200005, 0.01969689130783081, 0.019140031188726425, 0.01940033584833145, 0.019543128088116646, 0.01931178569793701, 0.019198579713702202, 0.019104789942502975, 0.019190186634659767, 0.01938330940902233, 0.01915300451219082, 0.019176915287971497, 0.019296927377581596, 0.019000105559825897, 0.01905551180243492, 0.01922452449798584, 0.019245658069849014, 0.01905626803636551, 0.019174713641405106, 0.01915820874273777, 0.019200440496206284, 0.019045760855078697, 0.01918225735425949, 0.019140897318720818, 0.01896752417087555, 0.018953213468194008, 0.019119275733828545, 0.018972313031554222, 0.019018225371837616, 0.019118797034025192, 0.018955646082758904, 0.018758023157715797, 0.018836691975593567, 0.018933702260255814, 0.01898602582514286]\n"
     ]
    }
   ],
   "source": [
    "print(history_mse.history['mse'])"
   ]
  },
  {
   "cell_type": "code",
   "execution_count": 3,
   "metadata": {},
   "outputs": [
    {
     "name": "stderr",
     "output_type": "stream",
     "text": [
      "2023-04-27 15:32:35.721053: I tensorflow/core/platform/cpu_feature_guard.cc:193] This TensorFlow binary is optimized with oneAPI Deep Neural Network Library (oneDNN) to use the following CPU instructions in performance-critical operations:  AVX2 AVX512F AVX512_VNNI FMA\n",
      "To enable them in other operations, rebuild TensorFlow with the appropriate compiler flags.\n",
      "2023-04-27 15:32:37.332650: I tensorflow/core/common_runtime/gpu/gpu_device.cc:1613] Created device /job:localhost/replica:0/task:0/device:GPU:0 with 9793 MB memory:  -> device: 0, name: Quadro RTX 5000, pci bus id: 0000:19:00.0, compute capability: 7.5\n",
      "2023-04-27 15:32:37.333175: I tensorflow/core/common_runtime/gpu/gpu_device.cc:1613] Created device /job:localhost/replica:0/task:0/device:GPU:1 with 14461 MB memory:  -> device: 1, name: Quadro RTX 5000, pci bus id: 0000:1a:00.0, compute capability: 7.5\n",
      "2023-04-27 15:32:37.333660: I tensorflow/core/common_runtime/gpu/gpu_device.cc:1613] Created device /job:localhost/replica:0/task:0/device:GPU:2 with 14461 MB memory:  -> device: 2, name: Quadro RTX 5000, pci bus id: 0000:67:00.0, compute capability: 7.5\n",
      "2023-04-27 15:32:37.334120: I tensorflow/core/common_runtime/gpu/gpu_device.cc:1613] Created device /job:localhost/replica:0/task:0/device:GPU:3 with 13885 MB memory:  -> device: 3, name: Quadro RTX 5000, pci bus id: 0000:68:00.0, compute capability: 7.5\n",
      "/home/rkannan/miniconda3/envs/richard_tf/lib/python3.9/site-packages/keras/initializers/initializers_v2.py:120: UserWarning: The initializer HeNormal is unseeded and being called multiple times, which will return identical values  each time (even if the initializer is unseeded). Please update your code to provide a seed to the initializer, or avoid using the same initalizer instance more than once.\n",
      "  warnings.warn(\n",
      "2023-04-27 15:32:38.563104: I tensorflow/compiler/xla/stream_executor/cuda/cuda_dnn.cc:428] Loaded cuDNN version 8100\n"
     ]
    },
    {
     "name": "stdout",
     "output_type": "stream",
     "text": [
      "14/14 [==============================] - 2s 9ms/step - loss: 13.6442 - mse: 0.0194\n",
      "14/14 [==============================] - 0s 5ms/step\n"
     ]
    }
   ],
   "source": [
    "#load saved model\n",
    "model_mse = tf.keras.models.load_model('saved Models/1_Diamide_1.h5')\n",
    "evaluate_data = model_mse.evaluate(\n",
    "    x_test, y_test, verbose=1, batch_size=32)\n",
    "#print(evaluate_data)\n",
    "\n",
    "# predict\n",
    "predict_data = model_mse.predict(x_test)"
   ]
  },
  {
   "cell_type": "code",
   "execution_count": null,
   "metadata": {},
   "outputs": [],
   "source": []
  }
 ],
 "metadata": {
  "accelerator": "GPU",
  "colab": {
   "collapsed_sections": [],
   "machine_shape": "hm",
   "provenance": []
  },
  "gpuClass": "standard",
  "kernelspec": {
   "display_name": "richard_tf",
   "language": "python",
   "name": "richard_tf"
  },
  "language_info": {
   "codemirror_mode": {
    "name": "ipython",
    "version": 3
   },
   "file_extension": ".py",
   "mimetype": "text/x-python",
   "name": "python",
   "nbconvert_exporter": "python",
   "pygments_lexer": "ipython3",
   "version": "3.9.16"
  }
 },
 "nbformat": 4,
 "nbformat_minor": 1
}
